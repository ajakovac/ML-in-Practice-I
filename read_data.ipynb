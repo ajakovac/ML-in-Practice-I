{
 "cells": [
  {
   "cell_type": "code",
   "execution_count": 2,
   "id": "28cbdd83",
   "metadata": {},
   "outputs": [],
   "source": [
    "import pandas as pd"
   ]
  },
  {
   "cell_type": "code",
   "execution_count": 3,
   "id": "ff5471cf",
   "metadata": {},
   "outputs": [],
   "source": [
    "text=\"\"\"[\n",
    "  {\n",
    "    \"title\": \"The Hobbit\",\n",
    "    \"author\": \"J.R.R. Tolkien\",\n",
    "    \"publisher\": \"George Allen & Unwin\",\n",
    "    \"year\": 1937\n",
    "  },\n",
    "  {\n",
    "    \"title\": \"The Fellowship of the Ring\",\n",
    "    \"author\": \"J.R.R. Tolkien\",\n",
    "    \"publisher\": \"George Allen & Unwin\",\n",
    "    \"year\": 1954\n",
    "  },\n",
    "  {\n",
    "    \"title\": \"Nineteen Eighty-Four\",\n",
    "    \"author\": \"George Orwell\",\n",
    "    \"publisher\": \"Secker & Warburg\",\n",
    "    \"year\": 1949\n",
    "  },\n",
    "  {\n",
    "    \"title\": \"Brave New World\",\n",
    "    \"author\": \"Aldous Huxley\",\n",
    "    \"publisher\": \"Chatto & Windus\",\n",
    "    \"year\": 1932\n",
    "  },\n",
    "  {\n",
    "    \"title\": \"The Catcher in the Rye\",\n",
    "    \"author\": \"J.D. Salinger\",\n",
    "    \"publisher\": \"Little, Brown and Company\",\n",
    "    \"year\": 1951\n",
    "  }\n",
    "]\"\"\"\n",
    "with open('Data/books.json','w') as f:\n",
    "    print(text,file=f)"
   ]
  },
  {
   "cell_type": "code",
   "execution_count": 5,
   "id": "72220f85",
   "metadata": {},
   "outputs": [
    {
     "data": {
      "text/html": [
       "<div>\n",
       "<style scoped>\n",
       "    .dataframe tbody tr th:only-of-type {\n",
       "        vertical-align: middle;\n",
       "    }\n",
       "\n",
       "    .dataframe tbody tr th {\n",
       "        vertical-align: top;\n",
       "    }\n",
       "\n",
       "    .dataframe thead th {\n",
       "        text-align: right;\n",
       "    }\n",
       "</style>\n",
       "<table border=\"1\" class=\"dataframe\">\n",
       "  <thead>\n",
       "    <tr style=\"text-align: right;\">\n",
       "      <th></th>\n",
       "      <th>title</th>\n",
       "      <th>author</th>\n",
       "      <th>publisher</th>\n",
       "      <th>year</th>\n",
       "    </tr>\n",
       "  </thead>\n",
       "  <tbody>\n",
       "    <tr>\n",
       "      <th>0</th>\n",
       "      <td>The Hobbit</td>\n",
       "      <td>J.R.R. Tolkien</td>\n",
       "      <td>George Allen &amp; Unwin</td>\n",
       "      <td>1937</td>\n",
       "    </tr>\n",
       "    <tr>\n",
       "      <th>1</th>\n",
       "      <td>The Fellowship of the Ring</td>\n",
       "      <td>J.R.R. Tolkien</td>\n",
       "      <td>George Allen &amp; Unwin</td>\n",
       "      <td>1954</td>\n",
       "    </tr>\n",
       "    <tr>\n",
       "      <th>2</th>\n",
       "      <td>Nineteen Eighty-Four</td>\n",
       "      <td>George Orwell</td>\n",
       "      <td>Secker &amp; Warburg</td>\n",
       "      <td>1949</td>\n",
       "    </tr>\n",
       "    <tr>\n",
       "      <th>3</th>\n",
       "      <td>Brave New World</td>\n",
       "      <td>Aldous Huxley</td>\n",
       "      <td>Chatto &amp; Windus</td>\n",
       "      <td>1932</td>\n",
       "    </tr>\n",
       "    <tr>\n",
       "      <th>4</th>\n",
       "      <td>The Catcher in the Rye</td>\n",
       "      <td>J.D. Salinger</td>\n",
       "      <td>Little, Brown and Company</td>\n",
       "      <td>1951</td>\n",
       "    </tr>\n",
       "  </tbody>\n",
       "</table>\n",
       "</div>"
      ],
      "text/plain": [
       "                        title          author                  publisher  year\n",
       "0                  The Hobbit  J.R.R. Tolkien       George Allen & Unwin  1937\n",
       "1  The Fellowship of the Ring  J.R.R. Tolkien       George Allen & Unwin  1954\n",
       "2        Nineteen Eighty-Four   George Orwell           Secker & Warburg  1949\n",
       "3             Brave New World   Aldous Huxley            Chatto & Windus  1932\n",
       "4      The Catcher in the Rye   J.D. Salinger  Little, Brown and Company  1951"
      ]
     },
     "execution_count": 5,
     "metadata": {},
     "output_type": "execute_result"
    }
   ],
   "source": [
    "df = pd.read_json('Data/books.json')\n",
    "df"
   ]
  },
  {
   "cell_type": "code",
   "execution_count": null,
   "id": "4efed512",
   "metadata": {},
   "outputs": [],
   "source": [
    "text = \"\"\"title,author,publisher,year\n",
    "The Hobbit,J.R.R. Tolkien,George Allen & Unwin,1937\n",
    "The Fellowship of the Ring,J.R.R. Tolkien,George Allen & Unwin,1954\n",
    "Nineteen Eighty-Four,George Orwell,Secker & Warburg,1949\n",
    "Brave New World,Aldous Huxley,Chatto & Windus,1932\n",
    "The Catcher in the Rye,J.D. Salinger,\"Little, Brown and Company\",1951\"\"\"\n",
    "with open('Data/books.csv','w') as f:\n",
    "    print(text,file=f)"
   ]
  },
  {
   "cell_type": "code",
   "execution_count": 2,
   "id": "2d7c7c52",
   "metadata": {},
   "outputs": [],
   "source": [
    "df = pd.read_csv('Data/books.csv')"
   ]
  },
  {
   "cell_type": "code",
   "execution_count": 3,
   "id": "22a13101",
   "metadata": {},
   "outputs": [
    {
     "data": {
      "text/html": [
       "<div>\n",
       "<style scoped>\n",
       "    .dataframe tbody tr th:only-of-type {\n",
       "        vertical-align: middle;\n",
       "    }\n",
       "\n",
       "    .dataframe tbody tr th {\n",
       "        vertical-align: top;\n",
       "    }\n",
       "\n",
       "    .dataframe thead th {\n",
       "        text-align: right;\n",
       "    }\n",
       "</style>\n",
       "<table border=\"1\" class=\"dataframe\">\n",
       "  <thead>\n",
       "    <tr style=\"text-align: right;\">\n",
       "      <th></th>\n",
       "      <th>title</th>\n",
       "      <th>author</th>\n",
       "      <th>publisher</th>\n",
       "      <th>year</th>\n",
       "    </tr>\n",
       "  </thead>\n",
       "  <tbody>\n",
       "    <tr>\n",
       "      <th>0</th>\n",
       "      <td>The Hobbit</td>\n",
       "      <td>J.R.R. Tolkien</td>\n",
       "      <td>George Allen &amp; Unwin</td>\n",
       "      <td>1937</td>\n",
       "    </tr>\n",
       "    <tr>\n",
       "      <th>1</th>\n",
       "      <td>The Fellowship of the Ring</td>\n",
       "      <td>J.R.R. Tolkien</td>\n",
       "      <td>George Allen &amp; Unwin</td>\n",
       "      <td>1954</td>\n",
       "    </tr>\n",
       "    <tr>\n",
       "      <th>2</th>\n",
       "      <td>Nineteen Eighty-Four</td>\n",
       "      <td>George Orwell</td>\n",
       "      <td>Secker &amp; Warburg</td>\n",
       "      <td>1949</td>\n",
       "    </tr>\n",
       "    <tr>\n",
       "      <th>3</th>\n",
       "      <td>Brave New World</td>\n",
       "      <td>Aldous Huxley</td>\n",
       "      <td>Chatto &amp; Windus</td>\n",
       "      <td>1932</td>\n",
       "    </tr>\n",
       "    <tr>\n",
       "      <th>4</th>\n",
       "      <td>The Catcher in the Rye</td>\n",
       "      <td>J.D. Salinger</td>\n",
       "      <td>Little, Brown and Company</td>\n",
       "      <td>1951</td>\n",
       "    </tr>\n",
       "  </tbody>\n",
       "</table>\n",
       "</div>"
      ],
      "text/plain": [
       "                        title          author                  publisher  year\n",
       "0                  The Hobbit  J.R.R. Tolkien       George Allen & Unwin  1937\n",
       "1  The Fellowship of the Ring  J.R.R. Tolkien       George Allen & Unwin  1954\n",
       "2        Nineteen Eighty-Four   George Orwell           Secker & Warburg  1949\n",
       "3             Brave New World   Aldous Huxley            Chatto & Windus  1932\n",
       "4      The Catcher in the Rye   J.D. Salinger  Little, Brown and Company  1951"
      ]
     },
     "execution_count": 3,
     "metadata": {},
     "output_type": "execute_result"
    }
   ],
   "source": [
    "df"
   ]
  },
  {
   "cell_type": "code",
   "execution_count": 4,
   "id": "fa1ccd2c",
   "metadata": {},
   "outputs": [],
   "source": [
    "df.to_parquet(\"Data/books.parquet\", engine=\"fastparquet\", index=False)"
   ]
  },
  {
   "cell_type": "code",
   "execution_count": 5,
   "id": "86b96a63",
   "metadata": {},
   "outputs": [],
   "source": [
    "df_parquet = pd.read_parquet(\"Data/books.parquet\", engine=\"fastparquet\")"
   ]
  },
  {
   "cell_type": "code",
   "execution_count": 6,
   "id": "c4b7beb9",
   "metadata": {},
   "outputs": [
    {
     "data": {
      "text/html": [
       "<div>\n",
       "<style scoped>\n",
       "    .dataframe tbody tr th:only-of-type {\n",
       "        vertical-align: middle;\n",
       "    }\n",
       "\n",
       "    .dataframe tbody tr th {\n",
       "        vertical-align: top;\n",
       "    }\n",
       "\n",
       "    .dataframe thead th {\n",
       "        text-align: right;\n",
       "    }\n",
       "</style>\n",
       "<table border=\"1\" class=\"dataframe\">\n",
       "  <thead>\n",
       "    <tr style=\"text-align: right;\">\n",
       "      <th></th>\n",
       "      <th>title</th>\n",
       "      <th>author</th>\n",
       "      <th>publisher</th>\n",
       "      <th>year</th>\n",
       "    </tr>\n",
       "  </thead>\n",
       "  <tbody>\n",
       "    <tr>\n",
       "      <th>0</th>\n",
       "      <td>The Hobbit</td>\n",
       "      <td>J.R.R. Tolkien</td>\n",
       "      <td>George Allen &amp; Unwin</td>\n",
       "      <td>1937</td>\n",
       "    </tr>\n",
       "    <tr>\n",
       "      <th>1</th>\n",
       "      <td>The Fellowship of the Ring</td>\n",
       "      <td>J.R.R. Tolkien</td>\n",
       "      <td>George Allen &amp; Unwin</td>\n",
       "      <td>1954</td>\n",
       "    </tr>\n",
       "    <tr>\n",
       "      <th>2</th>\n",
       "      <td>Nineteen Eighty-Four</td>\n",
       "      <td>George Orwell</td>\n",
       "      <td>Secker &amp; Warburg</td>\n",
       "      <td>1949</td>\n",
       "    </tr>\n",
       "    <tr>\n",
       "      <th>3</th>\n",
       "      <td>Brave New World</td>\n",
       "      <td>Aldous Huxley</td>\n",
       "      <td>Chatto &amp; Windus</td>\n",
       "      <td>1932</td>\n",
       "    </tr>\n",
       "    <tr>\n",
       "      <th>4</th>\n",
       "      <td>The Catcher in the Rye</td>\n",
       "      <td>J.D. Salinger</td>\n",
       "      <td>Little, Brown and Company</td>\n",
       "      <td>1951</td>\n",
       "    </tr>\n",
       "  </tbody>\n",
       "</table>\n",
       "</div>"
      ],
      "text/plain": [
       "                        title          author                  publisher  year\n",
       "0                  The Hobbit  J.R.R. Tolkien       George Allen & Unwin  1937\n",
       "1  The Fellowship of the Ring  J.R.R. Tolkien       George Allen & Unwin  1954\n",
       "2        Nineteen Eighty-Four   George Orwell           Secker & Warburg  1949\n",
       "3             Brave New World   Aldous Huxley            Chatto & Windus  1932\n",
       "4      The Catcher in the Rye   J.D. Salinger  Little, Brown and Company  1951"
      ]
     },
     "execution_count": 6,
     "metadata": {},
     "output_type": "execute_result"
    }
   ],
   "source": [
    "df_parquet"
   ]
  },
  {
   "cell_type": "code",
   "execution_count": 7,
   "id": "866f82ce",
   "metadata": {},
   "outputs": [],
   "source": [
    "import sqlite3"
   ]
  },
  {
   "cell_type": "code",
   "execution_count": 8,
   "id": "8d83ad56",
   "metadata": {},
   "outputs": [],
   "source": [
    "conn = sqlite3.connect(\"Data/books.db\")"
   ]
  },
  {
   "cell_type": "code",
   "execution_count": 10,
   "id": "5fb38673",
   "metadata": {},
   "outputs": [],
   "source": [
    "cur = conn.cursor()\n"
   ]
  },
  {
   "cell_type": "code",
   "execution_count": 11,
   "id": "d3ad1b58",
   "metadata": {},
   "outputs": [],
   "source": [
    "# Create tables\n",
    "cur.execute(\"\"\"\n",
    "CREATE TABLE IF NOT EXISTS publishers (\n",
    "    id INTEGER PRIMARY KEY AUTOINCREMENT,\n",
    "    name TEXT NOT NULL\n",
    ")\n",
    "\"\"\")\n",
    "cur.execute(\"\"\"\n",
    "CREATE TABLE IF NOT EXISTS books (\n",
    "    id INTEGER PRIMARY KEY AUTOINCREMENT,\n",
    "    title TEXT NOT NULL,\n",
    "    author TEXT NOT NULL,\n",
    "    year INTEGER,\n",
    "    publisher_id INTEGER,\n",
    "    FOREIGN KEY (publisher_id) REFERENCES publishers(id)\n",
    ")\n",
    "\"\"\")\n",
    "\n",
    "# Insert a publisher\n",
    "cur.execute(\"INSERT INTO publishers (name) VALUES (?)\", (\"George Allen & Unwin\",))\n",
    "publisher_id = cur.lastrowid\n",
    "\n",
    "# Insert a book linked to that publisher\n",
    "cur.execute(\"INSERT INTO books (title, author, year, publisher_id) VALUES (?, ?, ?, ?)\",\n",
    "            (\"The Hobbit\", \"J.R.R. Tolkien\", 1937, publisher_id))\n",
    "conn.commit()\n"
   ]
  },
  {
   "cell_type": "code",
   "execution_count": 12,
   "id": "407c9ea0",
   "metadata": {},
   "outputs": [
    {
     "name": "stdout",
     "output_type": "stream",
     "text": [
      "[('The Hobbit', 'J.R.R. Tolkien', 'George Allen & Unwin')]\n"
     ]
    }
   ],
   "source": [
    "# Query join\n",
    "cur.execute(\"\"\"\n",
    "SELECT b.title, b.author, p.name AS publisher\n",
    "FROM books b\n",
    "JOIN publishers p ON b.publisher_id = p.id\n",
    "\"\"\")\n",
    "print(cur.fetchall())\n",
    "\n",
    "conn.close()"
   ]
  },
  {
   "cell_type": "code",
   "execution_count": 13,
   "id": "bd40764b",
   "metadata": {},
   "outputs": [],
   "source": [
    "from pymongo import MongoClient"
   ]
  },
  {
   "cell_type": "code",
   "execution_count": 14,
   "id": "377b8385",
   "metadata": {},
   "outputs": [],
   "source": [
    "client = MongoClient(\"mongodb://localhost:27017/\")"
   ]
  },
  {
   "cell_type": "code",
   "execution_count": 15,
   "id": "aee105af",
   "metadata": {},
   "outputs": [],
   "source": [
    "db = client[\"library\"]"
   ]
  },
  {
   "cell_type": "code",
   "execution_count": 16,
   "id": "d7594a46",
   "metadata": {},
   "outputs": [],
   "source": [
    "publishers = db[\"publishers\"]\n",
    "books = db[\"books\"]"
   ]
  },
  {
   "cell_type": "code",
   "execution_count": 17,
   "id": "e9e8f5ba",
   "metadata": {},
   "outputs": [
    {
     "data": {
      "text/plain": [
       "DeleteResult({'n': 0, 'ok': 1.0}, acknowledged=True)"
      ]
     },
     "execution_count": 17,
     "metadata": {},
     "output_type": "execute_result"
    }
   ],
   "source": [
    "publishers.delete_many({})\n",
    "books.delete_many({})"
   ]
  },
  {
   "cell_type": "code",
   "execution_count": 18,
   "id": "dc34c89b",
   "metadata": {},
   "outputs": [
    {
     "name": "stdout",
     "output_type": "stream",
     "text": [
      "The Hobbit by J.R.R. Tolkien was published by George Allen & Unwin in 1937.\n",
      "The Fellowship of the Ring by J.R.R. Tolkien was published by George Allen & Unwin in 1954.\n",
      "Nineteen Eighty-Four by George Orwell was published by Secker & Warburg in 1949.\n",
      "Brave New World by Aldous Huxley was published by Chatto & Windus in 1932.\n",
      "The Catcher in the Rye by J.D. Salinger was published by Little, Brown and Company in 1951.\n"
     ]
    }
   ],
   "source": [
    "# 5. Insert publishers\n",
    "pub_allen = publishers.insert_one({\"name\": \"George Allen & Unwin\"}).inserted_id\n",
    "pub_secker = publishers.insert_one({\"name\": \"Secker & Warburg\"}).inserted_id\n",
    "pub_chatto = publishers.insert_one({\"name\": \"Chatto & Windus\"}).inserted_id\n",
    "pub_little = publishers.insert_one({\"name\": \"Little, Brown and Company\"}).inserted_id\n",
    "\n",
    "# 6. Insert books with publisher references\n",
    "books.insert_many([\n",
    "    {\"title\": \"The Hobbit\", \"author\": \"J.R.R. Tolkien\", \"year\": 1937, \"publisher_id\": pub_allen},\n",
    "    {\"title\": \"The Fellowship of the Ring\", \"author\": \"J.R.R. Tolkien\", \"year\": 1954, \"publisher_id\": pub_allen},\n",
    "    {\"title\": \"Nineteen Eighty-Four\", \"author\": \"George Orwell\", \"year\": 1949, \"publisher_id\": pub_secker},\n",
    "    {\"title\": \"Brave New World\", \"author\": \"Aldous Huxley\", \"year\": 1932, \"publisher_id\": pub_chatto},\n",
    "    {\"title\": \"The Catcher in the Rye\", \"author\": \"J.D. Salinger\", \"year\": 1951, \"publisher_id\": pub_little},\n",
    "])\n",
    "\n",
    "# 7. Query: find all books and join publisher info manually\n",
    "for book in books.find():\n",
    "    publisher = publishers.find_one({\"_id\": book[\"publisher_id\"]})\n",
    "    print(f\"{book['title']} by {book['author']} \"\n",
    "          f\"was published by {publisher['name']} in {book['year']}.\")"
   ]
  },
  {
   "cell_type": "code",
   "execution_count": null,
   "id": "5f756e01",
   "metadata": {},
   "outputs": [],
   "source": []
  }
 ],
 "metadata": {
  "kernelspec": {
   "display_name": "ml-in-practice-i",
   "language": "python",
   "name": "python3"
  },
  "language_info": {
   "codemirror_mode": {
    "name": "ipython",
    "version": 3
   },
   "file_extension": ".py",
   "mimetype": "text/x-python",
   "name": "python",
   "nbconvert_exporter": "python",
   "pygments_lexer": "ipython3",
   "version": "3.12.3"
  }
 },
 "nbformat": 4,
 "nbformat_minor": 5
}
